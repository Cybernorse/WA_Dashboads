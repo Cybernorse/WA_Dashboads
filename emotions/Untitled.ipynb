{
 "cells": [
  {
   "cell_type": "code",
   "execution_count": 1,
   "id": "20c2c771",
   "metadata": {},
   "outputs": [
    {
     "name": "stderr",
     "output_type": "stream",
     "text": [
      "/home/bigpenguin/.local/lib/python3.7/site-packages/requests/__init__.py:104: RequestsDependencyWarning: urllib3 (1.26.6) or chardet (2.3.0)/charset_normalizer (2.0.4) doesn't match a supported version!\n",
      "  RequestsDependencyWarning)\n"
     ]
    }
   ],
   "source": [
    "import os \n",
    "import pandas as pd\n",
    "import numpy as np\n",
    "import librosa"
   ]
  },
  {
   "cell_type": "code",
   "execution_count": null,
   "id": "131b2008",
   "metadata": {},
   "outputs": [],
   "source": [
    "def waveforms(dir):\n",
    "    \n",
    "    adata=[i for i in os.listdir(dir) if i.split('.')[1]=='webm' or i.split('.')[1]=='ogg' or i.split('.')[1]=='wav']\n",
    "    bim=[]\n",
    "    count=0\n",
    "    for i in adata:\n",
    "        data_x, sampling_rate = librosa.load(dir+i,res_type='kaiser_fast')\n",
    "        mfccs = np.mean(librosa.feature.mfcc(y=data_x, sr=sampling_rate, n_mfcc=40).T,axis=0)\n",
    "        bim.append([mfccs,i.split('.')[0]])\n",
    "        count+=1\n",
    "        print(f\"************* {count} *************\")\n",
    "    return bim   "
   ]
  },
  {
   "cell_type": "code",
   "execution_count": null,
   "id": "9da7a804",
   "metadata": {},
   "outputs": [],
   "source": [
    "bim=waveforms('/home/bigpenguin/dataset&notebook/emotions/emods/emos')"
   ]
  },
  {
   "cell_type": "code",
   "execution_count": null,
   "id": "862c10cf",
   "metadata": {},
   "outputs": [],
   "source": []
  },
  {
   "cell_type": "code",
   "execution_count": null,
   "id": "6cc286da",
   "metadata": {},
   "outputs": [],
   "source": []
  },
  {
   "cell_type": "code",
   "execution_count": null,
   "id": "1fc9ab02",
   "metadata": {},
   "outputs": [],
   "source": []
  }
 ],
 "metadata": {
  "kernelspec": {
   "display_name": "Python 3.7.10 64-bit",
   "language": "python",
   "name": "python3710jvsc74a57bd0fd69f43f58546b570e94fd7eba7b65e6bcc7a5bbc4eab0408017d18902915d69"
  },
  "language_info": {
   "codemirror_mode": {
    "name": "ipython",
    "version": 3
   },
   "file_extension": ".py",
   "mimetype": "text/x-python",
   "name": "python",
   "nbconvert_exporter": "python",
   "pygments_lexer": "ipython3",
   "version": "3.7.10"
  }
 },
 "nbformat": 4,
 "nbformat_minor": 5
}
